{
 "cells": [
  {
   "cell_type": "markdown",
   "metadata": {},
   "source": [
    "# Managing your finaces using Python\n",
    "\n",
    "## introduction to the library \"beancount\""
   ]
  },
  {
   "cell_type": "markdown",
   "metadata": {},
   "source": [
    "## Intro to beancount ~2 min\n",
    "\n",
    "* Explain plaintext accounting\n",
    "* Explain double entry accounting\n",
    "* brief design goals of beancount\n"
   ]
  },
  {
   "cell_type": "markdown",
   "metadata": {},
   "source": [
    "## Beancount Query Language ~1 min\n",
    "\n",
    "* examples of what you can do"
   ]
  },
  {
   "cell_type": "markdown",
   "metadata": {},
   "source": [
    "## Fava ~1 min\n",
    "\n",
    "* show Income Statement\n",
    "* show Balance\n",
    "* mention Journal and Query\n",
    "* show Commodities"
   ]
  },
  {
   "cell_type": "markdown",
   "metadata": {},
   "source": [
    "## End ~30 sec\n",
    "\n",
    "* [Beancount Git Repo](https://github.com/beancount/beancount)\n",
    "* [Fava Git Repo](https://github.com/beancount/fava)\n",
    "* [Fava Envelope Plugin](https://github.com/bryall/fava-envelope)"
   ]
  }
 ],
 "metadata": {
  "language_info": {
   "codemirror_mode": {
    "name": "ipython",
    "version": 3
   },
   "file_extension": ".py",
   "mimetype": "text/x-python",
   "name": "python",
   "nbconvert_exporter": "python",
   "pygments_lexer": "ipython3",
   "version": 3
  },
  "orig_nbformat": 2,
  "kernelspec": {
   "name": "python_defaultSpec_1594090537961",
   "display_name": "Python 3.7.3 64-bit"
  }
 },
 "nbformat": 4,
 "nbformat_minor": 2
}