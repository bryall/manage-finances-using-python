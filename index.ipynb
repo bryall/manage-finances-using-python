{
 "cells": [
  {
   "cell_type": "markdown",
   "metadata": {
    "slideshow": {
     "slide_type": "slide"
    }
   },
   "source": [
    "# Managing your finaces using Python\n",
    "\n",
    "## introduction to the library \"beancount\""
   ]
  },
  {
   "cell_type": "markdown",
   "metadata": {
    "slideshow": {
     "slide_type": "slide"
    }
   },
   "source": [
    "# Beancount Features\n",
    "\n",
    "* plaintext accounting\n",
    "* double-entry accounting\n",
    "* Reports\n",
    "* cli and python api\n",
    "* Investment support\n",
    "* Plugin architecture"
   ]
  },
  {
   "cell_type": "markdown",
   "metadata": {
    "slideshow": {
     "slide_type": "slide"
    }
   },
   "source": [
    "# Transaction\n",
    "\n",
    "\n",
    "2020-07-25&nbsp;&nbsp;&nbsp;&nbsp;txn&nbsp;&nbsp;&nbsp;&nbsp;\"Coffee House\"\n",
    "\n",
    "&nbsp;&nbsp;&nbsp;&nbsp;Liabilities:Credit-Card&nbsp;&nbsp;&nbsp;&nbsp;-5.15 USD\n",
    "    \n",
    "&nbsp;&nbsp;&nbsp;&nbsp;Expenses:Coffee\n"
   ]
  },
  {
   "cell_type": "markdown",
   "metadata": {
    "slideshow": {
     "slide_type": "subslide"
    }
   },
   "source": [
    "# Transaction\n",
    "\n",
    "\n",
    "<span style=\"color:blue\">**2020-07-25**</span>&nbsp;&nbsp;&nbsp;&nbsp;txn&nbsp;&nbsp;&nbsp;&nbsp;\"Coffee House\"\n",
    "\n",
    "&nbsp;&nbsp;&nbsp;&nbsp;Liabilities:Credit-Card&nbsp;&nbsp;&nbsp;&nbsp;-5.15 USD\n",
    "    \n",
    "&nbsp;&nbsp;&nbsp;&nbsp;Expenses:Coffee\n",
    "\n",
    "____\n",
    "\n",
    "Date in ISO format"
   ]
  },
  {
   "cell_type": "markdown",
   "metadata": {
    "slideshow": {
     "slide_type": "subslide"
    }
   },
   "source": [
    "# Transaction\n",
    "\n",
    "\n",
    "2020-07-25&nbsp;&nbsp;&nbsp;&nbsp;<span style=\"color:blue\">**txn**</span>&nbsp;&nbsp;&nbsp;&nbsp;\"Coffee House\"\n",
    "\n",
    "&nbsp;&nbsp;&nbsp;&nbsp;Liabilities:Credit-Card&nbsp;&nbsp;&nbsp;&nbsp;-5.15 USD\n",
    "    \n",
    "&nbsp;&nbsp;&nbsp;&nbsp;Expenses:Coffee\n",
    "\n",
    "___\n",
    "\n",
    "Flag\n",
    "\n",
    "- txn - transaction\n",
    "- \\* - cleared\n",
    "- ! - pending"
   ]
  },
  {
   "cell_type": "markdown",
   "metadata": {
    "slideshow": {
     "slide_type": "subslide"
    }
   },
   "source": [
    "# Transaction\n",
    "\n",
    "\n",
    "2020-07-25&nbsp;&nbsp;&nbsp;&nbsp;txn&nbsp;&nbsp;&nbsp;&nbsp;<span style=\"color:blue\">**\"Coffee House\"**</span>\n",
    "\n",
    "&nbsp;&nbsp;&nbsp;&nbsp;Liabilities:Credit-Card&nbsp;&nbsp;&nbsp;&nbsp;-5.15 USD\n",
    "    \n",
    "&nbsp;&nbsp;&nbsp;&nbsp;Expenses:Coffee\n",
    "___\n",
    "\n",
    "Payee String"
   ]
  },
  {
   "cell_type": "markdown",
   "metadata": {
    "slideshow": {
     "slide_type": "subslide"
    }
   },
   "source": [
    "# Transaction\n",
    "\n",
    "\n",
    "2020-07-25&nbsp;&nbsp;&nbsp;&nbsp;txn&nbsp;&nbsp;&nbsp;&nbsp;\"Coffee House\"\n",
    "\n",
    "&nbsp;&nbsp;&nbsp;&nbsp;<span style=\"color:blue\">**Liabilities:Credit-Card**</span>&nbsp;&nbsp;&nbsp;&nbsp;&nbsp;&nbsp;&nbsp;&nbsp;&nbsp;&nbsp;&nbsp;&nbsp;&nbsp;&nbsp;&nbsp;&nbsp;-5.15 USD\n",
    "    \n",
    "&nbsp;&nbsp;&nbsp;&nbsp;Expenses:Coffee\n",
    "___\n",
    "Account (must start with one of the following)\n",
    "* Assets\n",
    "* Liabilities\n",
    "* Income\n",
    "* Expense\n",
    "* Equity"
   ]
  },
  {
   "cell_type": "markdown",
   "metadata": {
    "slideshow": {
     "slide_type": "subslide"
    }
   },
   "source": [
    "# Transaction\n",
    "\n",
    "\n",
    "2020-07-25&nbsp;&nbsp;&nbsp;&nbsp;txn&nbsp;&nbsp;&nbsp;&nbsp;\"Coffee House\"\n",
    "\n",
    "&nbsp;&nbsp;&nbsp;&nbsp;Liabilities:Credit-Card&nbsp;&nbsp;&nbsp;&nbsp;&nbsp;&nbsp;&nbsp;&nbsp;&nbsp;&nbsp;&nbsp;&nbsp;&nbsp;&nbsp;&nbsp;&nbsp;<span style=\"color:blue\">**-5.15 USD**</span>\n",
    "    \n",
    "&nbsp;&nbsp;&nbsp;&nbsp;Expenses:Coffee\n",
    "\n",
    "Amount of credit/debit with currency"
   ]
  },
  {
   "cell_type": "markdown",
   "metadata": {
    "slideshow": {
     "slide_type": "slide"
    }
   },
   "source": [
    "# Directive\n",
    "\n",
    "\n",
    "2020-07-25&nbsp;&nbsp;&nbsp;&nbsp;balance&nbsp;&nbsp;&nbsp;&nbsp;Assets:Checking&nbsp;&nbsp;&nbsp;&nbsp;1000.00 USD\n",
    "   ___\n",
    "   \n",
    "   Input to specify Metadata and Options\n",
    "   \n",
    "   * open/close\n",
    "   * balance\n",
    "   * note\n",
    "   * event\n",
    "   * option"
   ]
  },
  {
   "cell_type": "code",
   "execution_count": 3,
   "metadata": {
    "slideshow": {
     "slide_type": "slide"
    }
   },
   "outputs": [],
   "source": [
    "import beancount\n",
    "\n",
    "# load source file"
   ]
  },
  {
   "cell_type": "markdown",
   "metadata": {
    "slideshow": {
     "slide_type": "slide"
    }
   },
   "source": [
    "## Beancount Query Language ~1 min\n",
    "\n",
    "* examples of what you can do"
   ]
  },
  {
   "cell_type": "markdown",
   "metadata": {
    "slideshow": {
     "slide_type": "skip"
    }
   },
   "source": [
    "## Fava ~1 min\n",
    "\n",
    "* show Income Statement\n",
    "* show Balance\n",
    "* mention Journal and Query\n",
    "* show Commodities"
   ]
  },
  {
   "cell_type": "markdown",
   "metadata": {
    "slideshow": {
     "slide_type": "slide"
    }
   },
   "source": [
    "# Resources\n",
    "\n",
    "* Beancount Github Repo [https://github.com/beancount/beancount](https://github.com/beancount/beancount)\n",
    "* Fava Github Repo [https://github.com/beancount/fava](https://github.com/beancount/fava)\n",
    "\n",
    "## Plugging some projects I am working on \n",
    "* Beancount/Fava Envelope Budget Plugin [https://github.com/bryall/fava-envelope](https://github.com/bryall/fava-envelope)\n",
    "* Beancount Language Server Protocol(LSP) [https://github.com/bryall/beancount-language-server](https://github.com/bryall/beancount-language-server)"
   ]
  },
  {
   "cell_type": "markdown",
   "metadata": {
    "slideshow": {
     "slide_type": "slide"
    }
   },
   "source": [
    "# Where you can find me\n",
    "\n",
    "## twitter: polarmutex\n",
    "## email: ?"
   ]
  }
 ],
 "metadata": {
  "celltoolbar": "Slideshow",
  "kernelspec": {
   "display_name": "Python 3",
   "language": "python",
   "name": "python3"
  },
  "language_info": {
   "codemirror_mode": {
    "name": "ipython",
    "version": 3
   },
   "file_extension": ".py",
   "mimetype": "text/x-python",
   "name": "python",
   "nbconvert_exporter": "python",
   "pygments_lexer": "ipython3",
   "version": "3.8.2"
  }
 },
 "nbformat": 4,
 "nbformat_minor": 2
}
